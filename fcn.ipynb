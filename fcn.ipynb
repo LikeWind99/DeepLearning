{
  "nbformat": 4,
  "nbformat_minor": 0,
  "metadata": {
    "colab": {
      "name": "fcn.ipynb",
      "provenance": [],
      "collapsed_sections": [],
      "authorship_tag": "ABX9TyOJsM6bLW5NgScgg5K+J1VP",
      "include_colab_link": true
    },
    "kernelspec": {
      "name": "python3",
      "display_name": "Python 3"
    },
    "widgets": {
      "application/vnd.jupyter.widget-state+json": {
        "83b514bebc5a4546a0946ff8b4414ebe": {
          "model_module": "@jupyter-widgets/controls",
          "model_name": "HBoxModel",
          "state": {
            "_view_name": "HBoxView",
            "_dom_classes": [],
            "_model_name": "HBoxModel",
            "_view_module": "@jupyter-widgets/controls",
            "_model_module_version": "1.5.0",
            "_view_count": null,
            "_view_module_version": "1.5.0",
            "box_style": "",
            "layout": "IPY_MODEL_67b8fb50b37d49f9bdfb9cba31b31d3d",
            "_model_module": "@jupyter-widgets/controls",
            "children": [
              "IPY_MODEL_517c1ab846cf421a8df2e206049d60e2",
              "IPY_MODEL_e3f12d7f7484487d910f1c60a7dcb3ae"
            ]
          }
        },
        "67b8fb50b37d49f9bdfb9cba31b31d3d": {
          "model_module": "@jupyter-widgets/base",
          "model_name": "LayoutModel",
          "state": {
            "_view_name": "LayoutView",
            "grid_template_rows": null,
            "right": null,
            "justify_content": null,
            "_view_module": "@jupyter-widgets/base",
            "overflow": null,
            "_model_module_version": "1.2.0",
            "_view_count": null,
            "flex_flow": null,
            "width": null,
            "min_width": null,
            "border": null,
            "align_items": null,
            "bottom": null,
            "_model_module": "@jupyter-widgets/base",
            "top": null,
            "grid_column": null,
            "overflow_y": null,
            "overflow_x": null,
            "grid_auto_flow": null,
            "grid_area": null,
            "grid_template_columns": null,
            "flex": null,
            "_model_name": "LayoutModel",
            "justify_items": null,
            "grid_row": null,
            "max_height": null,
            "align_content": null,
            "visibility": null,
            "align_self": null,
            "height": null,
            "min_height": null,
            "padding": null,
            "grid_auto_rows": null,
            "grid_gap": null,
            "max_width": null,
            "order": null,
            "_view_module_version": "1.2.0",
            "grid_template_areas": null,
            "object_position": null,
            "object_fit": null,
            "grid_auto_columns": null,
            "margin": null,
            "display": null,
            "left": null
          }
        },
        "517c1ab846cf421a8df2e206049d60e2": {
          "model_module": "@jupyter-widgets/controls",
          "model_name": "FloatProgressModel",
          "state": {
            "_view_name": "ProgressView",
            "style": "IPY_MODEL_85b2104ce4d7443f8f0758a1cd15c238",
            "_dom_classes": [],
            "description": "",
            "_model_name": "FloatProgressModel",
            "bar_style": "info",
            "max": 1,
            "_view_module": "@jupyter-widgets/controls",
            "_model_module_version": "1.5.0",
            "value": 1,
            "_view_count": null,
            "_view_module_version": "1.5.0",
            "orientation": "horizontal",
            "min": 0,
            "description_tooltip": null,
            "_model_module": "@jupyter-widgets/controls",
            "layout": "IPY_MODEL_e514dfe84a964a1bb598184c97199990"
          }
        },
        "e3f12d7f7484487d910f1c60a7dcb3ae": {
          "model_module": "@jupyter-widgets/controls",
          "model_name": "HTMLModel",
          "state": {
            "_view_name": "HTMLView",
            "style": "IPY_MODEL_f6e362a7b57b48f391cb0c16c7ea1a15",
            "_dom_classes": [],
            "description": "",
            "_model_name": "HTMLModel",
            "placeholder": "​",
            "_view_module": "@jupyter-widgets/controls",
            "_model_module_version": "1.5.0",
            "value": " 1999642624/? [02:40&lt;00:00, 12718116.77it/s]",
            "_view_count": null,
            "_view_module_version": "1.5.0",
            "description_tooltip": null,
            "_model_module": "@jupyter-widgets/controls",
            "layout": "IPY_MODEL_56edbb16f8ac42e7964e3c0320b8d648"
          }
        },
        "85b2104ce4d7443f8f0758a1cd15c238": {
          "model_module": "@jupyter-widgets/controls",
          "model_name": "ProgressStyleModel",
          "state": {
            "_view_name": "StyleView",
            "_model_name": "ProgressStyleModel",
            "description_width": "initial",
            "_view_module": "@jupyter-widgets/base",
            "_model_module_version": "1.5.0",
            "_view_count": null,
            "_view_module_version": "1.2.0",
            "bar_color": null,
            "_model_module": "@jupyter-widgets/controls"
          }
        },
        "e514dfe84a964a1bb598184c97199990": {
          "model_module": "@jupyter-widgets/base",
          "model_name": "LayoutModel",
          "state": {
            "_view_name": "LayoutView",
            "grid_template_rows": null,
            "right": null,
            "justify_content": null,
            "_view_module": "@jupyter-widgets/base",
            "overflow": null,
            "_model_module_version": "1.2.0",
            "_view_count": null,
            "flex_flow": null,
            "width": null,
            "min_width": null,
            "border": null,
            "align_items": null,
            "bottom": null,
            "_model_module": "@jupyter-widgets/base",
            "top": null,
            "grid_column": null,
            "overflow_y": null,
            "overflow_x": null,
            "grid_auto_flow": null,
            "grid_area": null,
            "grid_template_columns": null,
            "flex": null,
            "_model_name": "LayoutModel",
            "justify_items": null,
            "grid_row": null,
            "max_height": null,
            "align_content": null,
            "visibility": null,
            "align_self": null,
            "height": null,
            "min_height": null,
            "padding": null,
            "grid_auto_rows": null,
            "grid_gap": null,
            "max_width": null,
            "order": null,
            "_view_module_version": "1.2.0",
            "grid_template_areas": null,
            "object_position": null,
            "object_fit": null,
            "grid_auto_columns": null,
            "margin": null,
            "display": null,
            "left": null
          }
        },
        "f6e362a7b57b48f391cb0c16c7ea1a15": {
          "model_module": "@jupyter-widgets/controls",
          "model_name": "DescriptionStyleModel",
          "state": {
            "_view_name": "StyleView",
            "_model_name": "DescriptionStyleModel",
            "description_width": "",
            "_view_module": "@jupyter-widgets/base",
            "_model_module_version": "1.5.0",
            "_view_count": null,
            "_view_module_version": "1.2.0",
            "_model_module": "@jupyter-widgets/controls"
          }
        },
        "56edbb16f8ac42e7964e3c0320b8d648": {
          "model_module": "@jupyter-widgets/base",
          "model_name": "LayoutModel",
          "state": {
            "_view_name": "LayoutView",
            "grid_template_rows": null,
            "right": null,
            "justify_content": null,
            "_view_module": "@jupyter-widgets/base",
            "overflow": null,
            "_model_module_version": "1.2.0",
            "_view_count": null,
            "flex_flow": null,
            "width": null,
            "min_width": null,
            "border": null,
            "align_items": null,
            "bottom": null,
            "_model_module": "@jupyter-widgets/base",
            "top": null,
            "grid_column": null,
            "overflow_y": null,
            "overflow_x": null,
            "grid_auto_flow": null,
            "grid_area": null,
            "grid_template_columns": null,
            "flex": null,
            "_model_name": "LayoutModel",
            "justify_items": null,
            "grid_row": null,
            "max_height": null,
            "align_content": null,
            "visibility": null,
            "align_self": null,
            "height": null,
            "min_height": null,
            "padding": null,
            "grid_auto_rows": null,
            "grid_gap": null,
            "max_width": null,
            "order": null,
            "_view_module_version": "1.2.0",
            "grid_template_areas": null,
            "object_position": null,
            "object_fit": null,
            "grid_auto_columns": null,
            "margin": null,
            "display": null,
            "left": null
          }
        }
      }
    }
  },
  "cells": [
    {
      "cell_type": "markdown",
      "metadata": {
        "id": "view-in-github",
        "colab_type": "text"
      },
      "source": [
        "<a href=\"https://colab.research.google.com/github/LikeWind99/DeepLearning/blob/master/fcn.ipynb\" target=\"_parent\"><img src=\"https://colab.research.google.com/assets/colab-badge.svg\" alt=\"Open In Colab\"/></a>"
      ]
    },
    {
      "cell_type": "code",
      "metadata": {
        "id": "wmIjy_BfiVk4"
      },
      "source": [
        "import torch as t\r\n",
        "import torchvision\r\n",
        "import torch.nn as nn\r\n",
        "from torch.utils.data import DataLoader, Dataset, random_split\r\n",
        "import torchvision.transforms as T\r\n",
        "import cv2\r\n",
        "import numpy as np\r\n",
        "from torchvision.models.vgg import VGG\r\n",
        "\r\n",
        "batch_size = 4\r\n",
        "num_workers = 4\r\n",
        "num_epochs = 100\r\n",
        "\r\n",
        "cfg = {\r\n",
        "    'vgg16': [64, 64, 'M', 128, 128, 'M', 256, 256, 256, 'M', 512, 512, 512, 'M', 512, 512, 512, 'M'],\r\n",
        "}\r\n",
        "\r\n",
        "ranges = {\r\n",
        "    'vgg16': ((0, 5), (5, 10), (10, 17), (17, 24), (24, 31)),\r\n",
        "}\r\n",
        "\r\n",
        "transform = T.Compose([\r\n",
        "    T.Resize(224),\r\n",
        "    T.CenterCrop(224),\r\n",
        "    T.ToTensor(), \r\n",
        "    T.Normalize(mean=[0.485, 0.456, 0.406], std=[0.229, 0.224, 0.225])])\r\n"
      ],
      "execution_count": 14,
      "outputs": []
    },
    {
      "cell_type": "code",
      "metadata": {
        "colab": {
          "base_uri": "https://localhost:8080/",
          "height": 82,
          "referenced_widgets": [
            "83b514bebc5a4546a0946ff8b4414ebe",
            "67b8fb50b37d49f9bdfb9cba31b31d3d",
            "517c1ab846cf421a8df2e206049d60e2",
            "e3f12d7f7484487d910f1c60a7dcb3ae",
            "85b2104ce4d7443f8f0758a1cd15c238",
            "e514dfe84a964a1bb598184c97199990",
            "f6e362a7b57b48f391cb0c16c7ea1a15",
            "56edbb16f8ac42e7964e3c0320b8d648"
          ]
        },
        "id": "oPgpOIYjiqu-",
        "outputId": "e868d347-28b3-4979-8ffb-72cefc93c14b"
      },
      "source": [
        "# 采用VOCSegmentation作为分割对象\r\n",
        "trainDataset = torchvision.datasets.VOCSegmentation(root='./newdata', year='2012', image_set='train', download=True)\r\n",
        "testDataset = torchvision.datasets.VOCSegmentation(root='./newdata', year='2012', image_set='val', download=True)\r\n",
        "\r\n",
        "trainDataLoader = DataLoader(dataset=trainDataset, batch_size=batch_size, shuffle=True, num_workers=num_workers)\r\n",
        "testDataLoader = DataLoader(dataset=testDataset, batch_size=batch_size, num_workers=num_workers)\r\n"
      ],
      "execution_count": 2,
      "outputs": [
        {
          "output_type": "stream",
          "text": [
            "Downloading http://host.robots.ox.ac.uk/pascal/VOC/voc2012/VOCtrainval_11-May-2012.tar to ./newdata/VOCtrainval_11-May-2012.tar\n"
          ],
          "name": "stdout"
        },
        {
          "output_type": "display_data",
          "data": {
            "application/vnd.jupyter.widget-view+json": {
              "model_id": "83b514bebc5a4546a0946ff8b4414ebe",
              "version_minor": 0,
              "version_major": 2
            },
            "text/plain": [
              "HBox(children=(FloatProgress(value=1.0, bar_style='info', max=1.0), HTML(value='')))"
            ]
          },
          "metadata": {
            "tags": []
          }
        },
        {
          "output_type": "stream",
          "text": [
            "Using downloaded and verified file: ./newdata/VOCtrainval_11-May-2012.tar\n"
          ],
          "name": "stdout"
        }
      ]
    },
    {
      "cell_type": "code",
      "metadata": {
        "id": "j_QjstsOkgMt"
      },
      "source": [
        ""
      ],
      "execution_count": 9,
      "outputs": []
    },
    {
      "cell_type": "code",
      "metadata": {
        "id": "P0U1ol79jEeT"
      },
      "source": [
        "layers = []\r\n",
        "batch_norm = False\r\n",
        "for each in cfg['vgg16']:\r\n",
        "  in_channels = 3\r\n",
        "  if each == 'M':\r\n",
        "    layers += [nn.MaxPool2d(kernel_size=2, stride=2)]\r\n",
        "\r\n",
        "  else:\r\n",
        "    conv2d = nn.Conv2d(in_channels=in_channels, out_channels=each, kernel_size=3, padding=1)\r\n",
        "    if batch_norm:\r\n",
        "      layers += [conv2d, nn.BatchNorm2d(num_features=each), nn.ReLU(inplace=True)]\r\n",
        "    else:\r\n",
        "      layers += [conv2d, nn.ReLU(inplace=True)]\r\n",
        "  \r\n",
        "\r\n",
        "    "
      ],
      "execution_count": 11,
      "outputs": []
    },
    {
      "cell_type": "code",
      "metadata": {
        "colab": {
          "base_uri": "https://localhost:8080/"
        },
        "id": "hwAXK1oDnR4F",
        "outputId": "561a6d70-976d-4b50-c3e4-8e6b80acf95e"
      },
      "source": [
        "layers = nn.Sequential(*layers)\r\n",
        "layers"
      ],
      "execution_count": 18,
      "outputs": [
        {
          "output_type": "execute_result",
          "data": {
            "text/plain": [
              "Sequential(\n",
              "  (0): Conv2d(3, 64, kernel_size=(3, 3), stride=(1, 1), padding=(1, 1))\n",
              "  (1): ReLU(inplace=True)\n",
              "  (2): Conv2d(3, 64, kernel_size=(3, 3), stride=(1, 1), padding=(1, 1))\n",
              "  (3): ReLU(inplace=True)\n",
              "  (4): MaxPool2d(kernel_size=2, stride=2, padding=0, dilation=1, ceil_mode=False)\n",
              "  (5): Conv2d(3, 128, kernel_size=(3, 3), stride=(1, 1), padding=(1, 1))\n",
              "  (6): ReLU(inplace=True)\n",
              "  (7): Conv2d(3, 128, kernel_size=(3, 3), stride=(1, 1), padding=(1, 1))\n",
              "  (8): ReLU(inplace=True)\n",
              "  (9): MaxPool2d(kernel_size=2, stride=2, padding=0, dilation=1, ceil_mode=False)\n",
              "  (10): Conv2d(3, 256, kernel_size=(3, 3), stride=(1, 1), padding=(1, 1))\n",
              "  (11): ReLU(inplace=True)\n",
              "  (12): Conv2d(3, 256, kernel_size=(3, 3), stride=(1, 1), padding=(1, 1))\n",
              "  (13): ReLU(inplace=True)\n",
              "  (14): Conv2d(3, 256, kernel_size=(3, 3), stride=(1, 1), padding=(1, 1))\n",
              "  (15): ReLU(inplace=True)\n",
              "  (16): MaxPool2d(kernel_size=2, stride=2, padding=0, dilation=1, ceil_mode=False)\n",
              "  (17): Conv2d(3, 512, kernel_size=(3, 3), stride=(1, 1), padding=(1, 1))\n",
              "  (18): ReLU(inplace=True)\n",
              "  (19): Conv2d(3, 512, kernel_size=(3, 3), stride=(1, 1), padding=(1, 1))\n",
              "  (20): ReLU(inplace=True)\n",
              "  (21): Conv2d(3, 512, kernel_size=(3, 3), stride=(1, 1), padding=(1, 1))\n",
              "  (22): ReLU(inplace=True)\n",
              "  (23): MaxPool2d(kernel_size=2, stride=2, padding=0, dilation=1, ceil_mode=False)\n",
              "  (24): Conv2d(3, 512, kernel_size=(3, 3), stride=(1, 1), padding=(1, 1))\n",
              "  (25): ReLU(inplace=True)\n",
              "  (26): Conv2d(3, 512, kernel_size=(3, 3), stride=(1, 1), padding=(1, 1))\n",
              "  (27): ReLU(inplace=True)\n",
              "  (28): Conv2d(3, 512, kernel_size=(3, 3), stride=(1, 1), padding=(1, 1))\n",
              "  (29): ReLU(inplace=True)\n",
              "  (30): MaxPool2d(kernel_size=2, stride=2, padding=0, dilation=1, ceil_mode=False)\n",
              ")"
            ]
          },
          "metadata": {
            "tags": []
          },
          "execution_count": 18
        }
      ]
    },
    {
      "cell_type": "code",
      "metadata": {
        "id": "HxMB50KanWUR"
      },
      "source": [
        "class VGGNet(VGG):\r\n",
        "  def __init__(self, layers=layers, pretrained=True, requires_grad=True, remove_fc=True, show_params=False):\r\n",
        "    super(VGGNet, self).__init__(layers)\r\n",
        "    if pretrained:\r\n",
        "      exec(f\"self.load_state_dict(models.{'vgg16'}(pretrained=True).state_dict())\")\r\n",
        "    if requires_grad == False:\r\n",
        "      for param in super().parameters():\r\n",
        "        param.requires_grad = False\r\n",
        "\r\n",
        "    if remove_fc:\r\n",
        "      del self.classifier\r\n",
        "\r\n",
        "    if show_params:\r\n",
        "      for name, param in self.named_parameters():\r\n",
        "        print(name, param.size())\r\n",
        "\r\n",
        "  def forward(self, x):\r\n",
        "    output = {}\r\n",
        "    for i, (begin, end) in enumerate(self.ranges):\r\n",
        "      for layer in range(begin, end):\r\n",
        "        x = self.features[layers](x)\r\n",
        "      output[f'x{i+1}'] = x\r\n",
        "\r\n",
        "    return output\r\n"
      ],
      "execution_count": 15,
      "outputs": []
    },
    {
      "cell_type": "code",
      "metadata": {
        "id": "Su1fRLpbpAdT"
      },
      "source": [
        "class FCN8s(nn.Module):\r\n",
        "\r\n",
        "    def __init__(self, pretrained_net, n_class):\r\n",
        "        super().__init__()\r\n",
        "        self.n_class = n_class\r\n",
        "        self.pretrained_net = pretrained_net\r\n",
        "        self.conv6 = nn.Conv2d(512, 512, kernel_size=1, stride=1, padding=0, dilation=1)\r\n",
        "        self.conv7 = nn.Conv2d(512, 512, kernel_size=1, stride=1, padding=0, dilation=1)\r\n",
        "        self.relu    = nn.ReLU(inplace=True)\r\n",
        "        self.deconv1 = nn.ConvTranspose2d(512, 512, kernel_size=3, stride=2, padding=1, dilation=1, output_padding=1)\r\n",
        "        self.bn1     = nn.BatchNorm2d(512)\r\n",
        "        self.deconv2 = nn.ConvTranspose2d(512, 256, kernel_size=3, stride=2, padding=1, dilation=1, output_padding=1)\r\n",
        "        self.bn2     = nn.BatchNorm2d(256)\r\n",
        "        self.deconv3 = nn.ConvTranspose2d(256, 128, kernel_size=3, stride=2, padding=1, dilation=1, output_padding=1)\r\n",
        "        self.bn3     = nn.BatchNorm2d(128)\r\n",
        "        self.deconv4 = nn.ConvTranspose2d(128, 64, kernel_size=3, stride=2, padding=1, dilation=1, output_padding=1)\r\n",
        "        self.bn4     = nn.BatchNorm2d(64)\r\n",
        "        self.deconv5 = nn.ConvTranspose2d(64, 32, kernel_size=3, stride=2, padding=1, dilation=1, output_padding=1)\r\n",
        "        self.bn5     = nn.BatchNorm2d(32)\r\n",
        "        self.classifier = nn.Conv2d(32, n_class, kernel_size=1)\r\n",
        "\r\n",
        "    def forward(self, x):\r\n",
        "        output = self.pretrained_net(x)\r\n",
        "        x5 = output['x5']    # maxpooling5的feature map (1/32)\r\n",
        "        x4 = output['x4']    # maxpooling4的feature map (1/16)\r\n",
        "        x3 = output['x3']    # maxpooling3的feature map (1/8)\r\n",
        "    \r\n",
        "        score = self.relu(self.conv6(x5))    # conv6  size不变 (1/32)\r\n",
        "        score = self.relu(self.conv7(score)) # conv7  size不变 (1/32)\r\n",
        "        score = self.relu(self.deconv1(x5))   # out_size = 2*in_size (1/16)       \r\n",
        "        score = self.bn1(score + x4)                      \r\n",
        "        score = self.relu(self.deconv2(score)) # out_size = 2*in_size (1/8)           \r\n",
        "        score = self.bn2(score + x3)                      \r\n",
        "        score = self.bn3(self.relu(self.deconv3(score)))  # out_size = 2*in_size (1/4)\r\n",
        "        score = self.bn4(self.relu(self.deconv4(score)))  # out_size = 2*in_size (1/2)\r\n",
        "        score = self.bn5(self.relu(self.deconv5(score)))  # out_size = 2*in_size (1)\r\n",
        "        score = self.classifier(score)                    # size不变，使输出的channel等于类别数\r\n",
        "\r\n",
        "        return score  "
      ],
      "execution_count": 16,
      "outputs": []
    },
    {
      "cell_type": "code",
      "metadata": {
        "id": "f0TDS49-p-Mo"
      },
      "source": [
        ""
      ],
      "execution_count": null,
      "outputs": []
    }
  ]
}